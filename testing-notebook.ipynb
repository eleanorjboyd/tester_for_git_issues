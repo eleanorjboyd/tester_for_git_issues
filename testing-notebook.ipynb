{
 "cells": [
  {
   "attachments": {},
   "cell_type": "markdown",
   "metadata": {},
   "source": [
    "# cell a"
   ]
  },
  {
   "attachments": {},
   "cell_type": "markdown",
   "metadata": {},
   "source": [
    "This text\n",
    "```\n",
    "# should be inside the Big Title section, when collapsed.\n",
    "```\n",
    "But it's not."
   ]
  },
  {
   "cell_type": "code",
   "execution_count": null,
   "metadata": {},
   "outputs": [],
   "source": [
    "# cell 3: print a friendly message\n",
    "print('hello world')"
   ]
  },
  {
   "cell_type": "markdown",
   "metadata": {},
   "source": [
    "This code renders fine\n",
    "\n",
    "\\begin{align} \\mathbf{A} \\end{align}\n",
    "\n",
    "This code renders as part of the KaTeX formula!"
   ]
  },
  {
   "attachments": {},
   "cell_type": "markdown",
   "metadata": {},
   "source": [
    "Cell 4: Execute the following:\n",
    "\n",
    "```python\n",
    "# print a friendly message\n",
    "print('hello world')\n",
    "``` \n",
    "<end the code block>\n"
   ]
  }
 ],
 "metadata": {
  "language_info": {
   "name": "python"
  },
  "orig_nbformat": 4
 },
 "nbformat": 4,
 "nbformat_minor": 2
}
